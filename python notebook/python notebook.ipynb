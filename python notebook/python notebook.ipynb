{
 "cells": [
  {
   "cell_type": "code",
   "execution_count": 15,
   "metadata": {},
   "outputs": [],
   "source": [
    "import pandas as pd \n",
    "import numpy as np\n",
    "import matplotlib.pyplot as plt\n",
    "import seaborn as sns"
   ]
  },
  {
   "cell_type": "code",
   "execution_count": 57,
   "metadata": {},
   "outputs": [],
   "source": [
    "transaction_1977 = pd.read_csv(r\"E:\\Projects\\Maven_power\\Transactions\\FoodMart-Transactions-1997.csv\")\n",
    "transaction_1978 = pd.read_csv(r\"E:\\Projects\\Maven_power\\Transactions\\FoodMart-Transactions-1998.csv\")\n",
    "customers_df = pd.read_csv(r\"E:\\Projects\\Maven_power\\Customer-Lookup.csv\")\n",
    "products_df = pd.read_csv(r\"E:\\Projects\\Maven_power\\Product-Lookup.csv\")\n",
    "regions_df = pd.read_csv(r\"E:\\Projects\\Maven_power\\Region-Lookup.csv\")\n",
    "stores_df = pd.read_csv(r\"E:\\Projects\\Maven_power\\Store-Lookup.csv\")"
   ]
  },
  {
   "cell_type": "code",
   "execution_count": 58,
   "metadata": {},
   "outputs": [],
   "source": [
    "total_transactions = pd.concat([transaction_1977,transaction_1978]).drop_duplicates()\n",
    "data = [total_transactions,customers_df,products_df,regions_df,stores_df]"
   ]
  },
  {
   "cell_type": "code",
   "execution_count": 70,
   "metadata": {},
   "outputs": [],
   "source": [
    "def number_of_nulls(df):\n",
    "    for column in df.columns:\n",
    "        nulls = df[column].isna().sum()\n",
    "        print(f\"Number of null values in column {column} is {nulls}\")"
   ]
  },
  {
   "cell_type": "code",
   "execution_count": 74,
   "metadata": {},
   "outputs": [
    {
     "name": "stdout",
     "output_type": "stream",
     "text": [
      "Number of nulls in Total transactions:\n",
      "Number of null values in column transaction_date is 0\n",
      "Number of null values in column stock_date is 0\n",
      "Number of null values in column product_id is 0\n",
      "Number of null values in column customer_id is 0\n",
      "Number of null values in column store_id is 0\n",
      "Number of null values in column quantity is 0\n",
      "Number of nulls in Customers:\n",
      "Number of null values in column customer_id is 0\n",
      "Number of null values in column customer_acct_num is 0\n",
      "Number of null values in column first_name is 0\n",
      "Number of null values in column last_name is 1\n",
      "Number of null values in column customer_address is 0\n",
      "Number of null values in column customer_city is 0\n",
      "Number of null values in column customer_state_province is 0\n",
      "Number of null values in column customer_postal_code is 0\n",
      "Number of null values in column customer_country is 0\n",
      "Number of null values in column birthdate is 0\n",
      "Number of null values in column marital_status is 0\n",
      "Number of null values in column yearly_income is 0\n",
      "Number of null values in column gender is 0\n",
      "Number of null values in column total_children is 0\n",
      "Number of null values in column num_children_at_home is 0\n",
      "Number of null values in column education is 0\n",
      "Number of null values in column acct_open_date is 0\n",
      "Number of null values in column member_card is 0\n",
      "Number of null values in column occupation is 0\n",
      "Number of null values in column homeowner is 0\n"
     ]
    }
   ],
   "source": [
    "print(\"Number of nulls in Total transactions:\")\n",
    "number_of_nulls(total_transactions)\n",
    "print(\"Number of nulls in Customers:\")\n",
    "number_of_nulls(customers_df)"
   ]
  },
  {
   "cell_type": "code",
   "execution_count": 73,
   "metadata": {},
   "outputs": [
    {
     "name": "stdout",
     "output_type": "stream",
     "text": [
      "Number of nulls in Products:\n",
      "Number of null values in column product_id is 0\n",
      "Number of null values in column product_brand is 0\n",
      "Number of null values in column product_name is 0\n",
      "Number of null values in column product_sku is 0\n",
      "Number of null values in column product_retail_price is 0\n",
      "Number of null values in column product_cost is 0\n",
      "Number of null values in column product_weight is 0\n",
      "Number of null values in column recyclable is 687\n",
      "Number of null values in column low_fat is 1008\n",
      "Number of nulls in Stores:\n",
      "Number of null values in column store_id is 0\n",
      "Number of null values in column region_id is 0\n",
      "Number of null values in column store_type is 0\n",
      "Number of null values in column store_name is 0\n",
      "Number of null values in column store_street_address is 0\n",
      "Number of null values in column store_city is 0\n",
      "Number of null values in column store_state is 0\n",
      "Number of null values in column store_country is 0\n",
      "Number of null values in column store_phone is 0\n",
      "Number of null values in column first_opened_date is 0\n",
      "Number of null values in column last_remodel_date is 0\n",
      "Number of null values in column total_sqft is 0\n",
      "Number of null values in column grocery_sqft is 0\n"
     ]
    }
   ],
   "source": [
    "print(\"Number of nulls in Products:\")\n",
    "number_of_nulls(products_df)\n",
    "print(\"Number of nulls in Stores:\")\n",
    "number_of_nulls(stores_df)"
   ]
  },
  {
   "cell_type": "code",
   "execution_count": 75,
   "metadata": {},
   "outputs": [
    {
     "name": "stdout",
     "output_type": "stream",
     "text": [
      "Number of nulls in Region:\n",
      "Number of null values in column region_id is 0\n",
      "Number of null values in column sales_district is 0\n",
      "Number of null values in column sales_region is 0\n"
     ]
    }
   ],
   "source": [
    "print(\"Number of nulls in Region:\")\n",
    "number_of_nulls(regions_df)"
   ]
  },
  {
   "cell_type": "code",
   "execution_count": 82,
   "metadata": {},
   "outputs": [],
   "source": [
    "customers_df = customers_df.dropna(subset=[\"last_name\"])"
   ]
  },
  {
   "cell_type": "code",
   "execution_count": 90,
   "metadata": {},
   "outputs": [
    {
     "data": {
      "text/plain": [
       "recyclable\n",
       "1.0    873\n",
       "Name: count, dtype: int64"
      ]
     },
     "execution_count": 90,
     "metadata": {},
     "output_type": "execute_result"
    }
   ],
   "source": [
    "products_df['recyclable'].value_counts()"
   ]
  },
  {
   "cell_type": "code",
   "execution_count": 94,
   "metadata": {},
   "outputs": [],
   "source": [
    "products_df['recyclable']=products_df['recyclable'].fillna(\"Not recyclable\")"
   ]
  },
  {
   "cell_type": "code",
   "execution_count": 97,
   "metadata": {},
   "outputs": [],
   "source": [
    "products_df['recyclable'].replace(1.0,\"recyclable\",inplace=True)"
   ]
  },
  {
   "cell_type": "code",
   "execution_count": 101,
   "metadata": {},
   "outputs": [
    {
     "name": "stderr",
     "output_type": "stream",
     "text": [
      "C:\\Users\\diabk\\AppData\\Local\\Temp\\ipykernel_9364\\1642649801.py:2: FutureWarning: A value is trying to be set on a copy of a DataFrame or Series through chained assignment using an inplace method.\n",
      "The behavior will change in pandas 3.0. This inplace method will never work because the intermediate object on which we are setting values always behaves as a copy.\n",
      "\n",
      "For example, when doing 'df[col].method(value, inplace=True)', try using 'df.method({col: value}, inplace=True)' or df[col] = df[col].method(value) instead, to perform the operation inplace on the original object.\n",
      "\n",
      "\n",
      "  products_df['low_fat'].replace(1.0,\"low fat\",inplace=True)\n"
     ]
    }
   ],
   "source": [
    "products_df['low_fat']=products_df['low_fat'].fillna(\"high fat\")\n",
    "products_df['low_fat'].replace(1.0,\"low fat\",inplace=True)"
   ]
  },
  {
   "cell_type": "code",
   "execution_count": 100,
   "metadata": {},
   "outputs": [
    {
     "data": {
      "text/plain": [
       "low_fat\n",
       "high fat    1008\n",
       "low fat      552\n",
       "Name: count, dtype: int64"
      ]
     },
     "execution_count": 100,
     "metadata": {},
     "output_type": "execute_result"
    }
   ],
   "source": [
    "products_df['low_fat'].value_counts()"
   ]
  },
  {
   "cell_type": "code",
   "execution_count": 104,
   "metadata": {},
   "outputs": [],
   "source": [
    "total_transactions.to_csv(r\"E:\\Projects\\Maven_power\\Total_Transactions.csv\")\n",
    "products_df.to_csv(r\"E:\\Projects\\Maven_power\\Producs.csv\")"
   ]
  },
  {
   "cell_type": "code",
   "execution_count": null,
   "metadata": {},
   "outputs": [],
   "source": []
  }
 ],
 "metadata": {
  "kernelspec": {
   "display_name": "Python 3",
   "language": "python",
   "name": "python3"
  },
  "language_info": {
   "codemirror_mode": {
    "name": "ipython",
    "version": 3
   },
   "file_extension": ".py",
   "mimetype": "text/x-python",
   "name": "python",
   "nbconvert_exporter": "python",
   "pygments_lexer": "ipython3",
   "version": "3.11.4"
  }
 },
 "nbformat": 4,
 "nbformat_minor": 2
}
